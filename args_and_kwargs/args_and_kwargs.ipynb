{
 "cells": [
  {
   "cell_type": "markdown",
   "id": "aa371167-5f06-4eb1-a98c-3fffbec90f6b",
   "metadata": {},
   "source": [
    "# *args and **kwargs\n"
   ]
  },
  {
   "cell_type": "markdown",
   "id": "00981f19-2236-4e0c-9901-d097b92d448b",
   "metadata": {},
   "source": [
    "which are very important in Python, especially in object-oriented programming, decorators, data pipelines, and AI/ML frameworks."
   ]
  },
  {
   "cell_type": "markdown",
   "id": "a6358e0e-b77e-413e-bdba-513c99190c09",
   "metadata": {},
   "source": [
    "They let your functions accept a variable number of arguments, meaning you can pass as many inputs as you want, even if you don’t know how many beforehand."
   ]
  },
  {
   "cell_type": "markdown",
   "id": "0eb7ae22-84ed-42a7-9069-001e9b531599",
   "metadata": {},
   "source": [
    "| Syntax     | Type                 | Example Input    | Stored As               |\n",
    "| :--------- | :------------------- | :--------------- | :---------------------- |\n",
    "| `*args`    | Positional arguments | `func(1, 2, 3)`  | Tuple → `(1, 2, 3)`     |\n",
    "| `**kwargs` | Keyword arguments    | `func(a=1, b=2)` | Dict → `{'a':1, 'b':2}` |\n"
   ]
  },
  {
   "cell_type": "markdown",
   "id": "017eff96-3709-4d7d-9bf1-312c7f0b62f1",
   "metadata": {},
   "source": [
    "#### Using *args"
   ]
  },
  {
   "cell_type": "code",
   "execution_count": 10,
   "id": "58b5f8b4-c3c9-4b68-8e0e-b8250f827174",
   "metadata": {},
   "outputs": [
    {
     "name": "stdout",
     "output_type": "stream",
     "text": [
      "Numbers: (2, 5)\n",
      "7\n",
      "Numbers: (2, 5, 10, 20)\n",
      "37\n"
     ]
    }
   ],
   "source": [
    "def add_numbers(*args):\n",
    "    total = sum(args)\n",
    "    print(\"Numbers:\", args)\n",
    "    return total\n",
    "\n",
    "print(add_numbers(2, 5))\n",
    "print(add_numbers(2, 5, 10, 20))\n"
   ]
  },
  {
   "cell_type": "markdown",
   "id": "6fec5748-0a90-46b1-9be1-2d3cea2c4c5a",
   "metadata": {},
   "source": [
    "#### Using **kwargs"
   ]
  },
  {
   "cell_type": "code",
   "execution_count": 13,
   "id": "e1e5e8a0-e17c-470b-bbb2-3b74c69b63bc",
   "metadata": {},
   "outputs": [
    {
     "name": "stdout",
     "output_type": "stream",
     "text": [
      "name: Efe\n",
      "course: AI\n",
      "year: 2025\n"
     ]
    }
   ],
   "source": [
    "def print_student(**kwargs):\n",
    "    for key, value in kwargs.items():\n",
    "        print(f\"{key}: {value}\")\n",
    "\n",
    "print_student(name=\"Efe\", course=\"AI\", year=2025)\n"
   ]
  },
  {
   "cell_type": "code",
   "execution_count": null,
   "id": "b673d119-88f7-49b1-a721-15884ec54262",
   "metadata": {},
   "outputs": [],
   "source": []
  }
 ],
 "metadata": {
  "kernelspec": {
   "display_name": "Python [conda env:base] *",
   "language": "python",
   "name": "conda-base-py"
  },
  "language_info": {
   "codemirror_mode": {
    "name": "ipython",
    "version": 3
   },
   "file_extension": ".py",
   "mimetype": "text/x-python",
   "name": "python",
   "nbconvert_exporter": "python",
   "pygments_lexer": "ipython3",
   "version": "3.12.7"
  }
 },
 "nbformat": 4,
 "nbformat_minor": 5
}
