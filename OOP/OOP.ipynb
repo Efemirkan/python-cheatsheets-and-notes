{
 "cells": [
  {
   "cell_type": "markdown",
   "id": "38566739-b7ef-45b3-b433-f16ba8a2f339",
   "metadata": {},
   "source": [
    "#### classes & objects"
   ]
  },
  {
   "cell_type": "code",
   "execution_count": 5,
   "id": "a9269142-0478-46a1-acb5-56c0f7eb0568",
   "metadata": {},
   "outputs": [
    {
     "name": "stdout",
     "output_type": "stream",
     "text": [
      "5.0\n"
     ]
    }
   ],
   "source": [
    "class Vector2D:\n",
    "    def __init__(self, x, y):        # constructor\n",
    "        self.x = x                   # instance attributes\n",
    "        self.y = y\n",
    "\n",
    "    def norm(self):                  # instance method\n",
    "        return (self.x**2 + self.y**2) ** 0.5\n",
    "\n",
    "v = Vector2D(3, 4)                   # object (instance)\n",
    "print(v.norm())                      "
   ]
  },
  {
   "cell_type": "markdown",
   "id": "9ae54849-7be4-470a-93a7-e270f2da8284",
   "metadata": {},
   "source": [
    "- class defines a blueprint.\n",
    "- __init__ runs at construction.\n",
    "- self is the instance being operated on."
   ]
  },
  {
   "cell_type": "markdown",
   "id": "51aa8ba9-20f1-4c2c-8490-c9166928a94f",
   "metadata": {},
   "source": [
    "#### instance vs class attributes"
   ]
  },
  {
   "cell_type": "code",
   "execution_count": 20,
   "id": "5d167e2b-339a-42fd-ad7d-e84996f9008a",
   "metadata": {},
   "outputs": [],
   "source": [
    "class TokenCounter:\n",
    "    model_name = \"tiny-bert\"        # class attribute (shared)\n",
    "    def __init__(self):\n",
    "        self.count = 0              # instance attribute\n",
    "\n",
    "    def add(self, n):\n",
    "        self.count += n\n",
    "\n",
    "a = TokenCounter(); b = TokenCounter()\n",
    "a.add(3); b.add(7)\n",
    "TokenCounter.model_name = \"mini-bert\"   # affects all unless shadowed"
   ]
  },
  {
   "cell_type": "code",
   "execution_count": null,
   "id": "08177b09-c567-47d6-accf-c3629bd390c2",
   "metadata": {},
   "outputs": [],
   "source": []
  }
 ],
 "metadata": {
  "kernelspec": {
   "display_name": "Python [conda env:base] *",
   "language": "python",
   "name": "conda-base-py"
  },
  "language_info": {
   "codemirror_mode": {
    "name": "ipython",
    "version": 3
   },
   "file_extension": ".py",
   "mimetype": "text/x-python",
   "name": "python",
   "nbconvert_exporter": "python",
   "pygments_lexer": "ipython3",
   "version": "3.12.7"
  }
 },
 "nbformat": 4,
 "nbformat_minor": 5
}
