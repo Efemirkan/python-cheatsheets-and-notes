{
 "cells": [
  {
   "cell_type": "code",
   "execution_count": 1,
   "id": "2545a0c0-1f80-481e-b9a4-dc51b266b9a5",
   "metadata": {},
   "outputs": [],
   "source": [
    "person = {\n",
    "    \"name\": \"Efe\",\n",
    "    \"age\": 36,\n",
    "    \"university\": \"University of Sussex\"\n",
    "}"
   ]
  },
  {
   "cell_type": "markdown",
   "id": "8a82b414-0914-4227-9be6-04fd91eaded3",
   "metadata": {},
   "source": [
    "## Looping Through a Dictionary\n",
    "\n",
    "can loop through:\n",
    "\n",
    "- Keys\n",
    "- Values\n",
    "- Key-Value pairs"
   ]
  },
  {
   "cell_type": "markdown",
   "id": "f29a279c-c5e6-490b-b60b-b462539f9a43",
   "metadata": {},
   "source": [
    "#### Looping through keys"
   ]
  },
  {
   "cell_type": "code",
   "execution_count": 20,
   "id": "d2cbbbc2-1b4e-4c51-9f59-717df8076860",
   "metadata": {},
   "outputs": [
    {
     "name": "stdout",
     "output_type": "stream",
     "text": [
      "name\n",
      "age\n",
      "university\n"
     ]
    }
   ],
   "source": [
    "for key in person:\n",
    "    print(key)"
   ]
  },
  {
   "cell_type": "code",
   "execution_count": 24,
   "id": "0b0abc5e-153d-4e31-9f21-c5b1913968f5",
   "metadata": {},
   "outputs": [
    {
     "name": "stdout",
     "output_type": "stream",
     "text": [
      "name\n",
      "age\n",
      "university\n"
     ]
    }
   ],
   "source": [
    "for key in person.keys():\n",
    "    print(key)"
   ]
  },
  {
   "cell_type": "markdown",
   "id": "380e66e9-2169-4009-8a57-df4c9808ffc7",
   "metadata": {},
   "source": [
    "#### Looping through values"
   ]
  },
  {
   "cell_type": "code",
   "execution_count": 29,
   "id": "57cd9a0e-b173-4265-a1b0-495c7703c8ce",
   "metadata": {},
   "outputs": [
    {
     "name": "stdout",
     "output_type": "stream",
     "text": [
      "Efe\n",
      "36\n",
      "University of Sussex\n"
     ]
    }
   ],
   "source": [
    "for value in person.values():\n",
    "    print(value)"
   ]
  },
  {
   "cell_type": "code",
   "execution_count": 31,
   "id": "626f5e6e-64ba-4d52-9764-a02d421805e2",
   "metadata": {},
   "outputs": [
    {
     "name": "stdout",
     "output_type": "stream",
     "text": [
      "Efe\n",
      "36\n",
      "University of Sussex\n"
     ]
    }
   ],
   "source": [
    "for key in person:\n",
    "    print(person[key])"
   ]
  },
  {
   "cell_type": "markdown",
   "id": "04adc131-e99f-4700-aa5d-1129eab7355f",
   "metadata": {},
   "source": [
    "#### Looping through key-value pairs"
   ]
  },
  {
   "cell_type": "code",
   "execution_count": 36,
   "id": "d3afbd8c-0c6b-4620-a1e3-d6c2dbd2e057",
   "metadata": {},
   "outputs": [
    {
     "name": "stdout",
     "output_type": "stream",
     "text": [
      "name : Efe\n",
      "age : 36\n",
      "university : University of Sussex\n"
     ]
    }
   ],
   "source": [
    "for key, value in person.items():\n",
    "    print(f\"{key} : {value}\")"
   ]
  },
  {
   "cell_type": "markdown",
   "id": "5efadabe-f38a-4836-bfe0-5a7d54aa5015",
   "metadata": {},
   "source": [
    "##### .items() returns both key and value for each entry as a tuple."
   ]
  },
  {
   "cell_type": "markdown",
   "id": "ff74cd7d-67b6-448a-86c1-7c2e49c2efc9",
   "metadata": {},
   "source": [
    "#### Using .get()"
   ]
  },
  {
   "cell_type": "code",
   "execution_count": null,
   "id": "75748497-285d-4aa2-a6e5-980cf0935212",
   "metadata": {},
   "outputs": [],
   "source": []
  }
 ],
 "metadata": {
  "kernelspec": {
   "display_name": "Python [conda env:base] *",
   "language": "python",
   "name": "conda-base-py"
  },
  "language_info": {
   "codemirror_mode": {
    "name": "ipython",
    "version": 3
   },
   "file_extension": ".py",
   "mimetype": "text/x-python",
   "name": "python",
   "nbconvert_exporter": "python",
   "pygments_lexer": "ipython3",
   "version": "3.12.7"
  }
 },
 "nbformat": 4,
 "nbformat_minor": 5
}
