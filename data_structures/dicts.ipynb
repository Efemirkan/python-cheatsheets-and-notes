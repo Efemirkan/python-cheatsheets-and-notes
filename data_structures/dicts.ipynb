{
 "cells": [
  {
   "cell_type": "code",
   "execution_count": 5,
   "id": "2545a0c0-1f80-481e-b9a4-dc51b266b9a5",
   "metadata": {},
   "outputs": [],
   "source": [
    "person = {\n",
    "    \"name\": \"Efe\",\n",
    "    \"age\": 36,\n",
    "    \"university\": \"University of Sussex\"\n",
    "}"
   ]
  },
  {
   "cell_type": "markdown",
   "id": "8a82b414-0914-4227-9be6-04fd91eaded3",
   "metadata": {},
   "source": [
    "## Looping Through a Dictionary\n",
    "\n",
    "can loop through:\n",
    "\n",
    "- Keys\n",
    "- Values\n",
    "- Key-Value pairs"
   ]
  },
  {
   "cell_type": "markdown",
   "id": "f29a279c-c5e6-490b-b60b-b462539f9a43",
   "metadata": {},
   "source": [
    "#### Looping through keys"
   ]
  },
  {
   "cell_type": "code",
   "execution_count": 7,
   "id": "d2cbbbc2-1b4e-4c51-9f59-717df8076860",
   "metadata": {},
   "outputs": [
    {
     "name": "stdout",
     "output_type": "stream",
     "text": [
      "name\n",
      "age\n",
      "university\n"
     ]
    }
   ],
   "source": [
    "for key in person:\n",
    "    print(key)"
   ]
  },
  {
   "cell_type": "code",
   "execution_count": 9,
   "id": "0b0abc5e-153d-4e31-9f21-c5b1913968f5",
   "metadata": {},
   "outputs": [
    {
     "name": "stdout",
     "output_type": "stream",
     "text": [
      "name\n",
      "age\n",
      "university\n"
     ]
    }
   ],
   "source": [
    "for key in person.keys():\n",
    "    print(key)"
   ]
  },
  {
   "cell_type": "markdown",
   "id": "380e66e9-2169-4009-8a57-df4c9808ffc7",
   "metadata": {},
   "source": [
    "#### Looping through values"
   ]
  },
  {
   "cell_type": "code",
   "execution_count": 11,
   "id": "57cd9a0e-b173-4265-a1b0-495c7703c8ce",
   "metadata": {},
   "outputs": [
    {
     "name": "stdout",
     "output_type": "stream",
     "text": [
      "Efe\n",
      "36\n",
      "University of Sussex\n"
     ]
    }
   ],
   "source": [
    "for value in person.values():\n",
    "    print(value)"
   ]
  },
  {
   "cell_type": "code",
   "execution_count": 13,
   "id": "626f5e6e-64ba-4d52-9764-a02d421805e2",
   "metadata": {},
   "outputs": [
    {
     "name": "stdout",
     "output_type": "stream",
     "text": [
      "Efe\n",
      "36\n",
      "University of Sussex\n"
     ]
    }
   ],
   "source": [
    "for key in person:\n",
    "    print(person[key])"
   ]
  },
  {
   "cell_type": "markdown",
   "id": "04adc131-e99f-4700-aa5d-1129eab7355f",
   "metadata": {},
   "source": [
    "#### Looping through key-value pairs"
   ]
  },
  {
   "cell_type": "code",
   "execution_count": 15,
   "id": "d3afbd8c-0c6b-4620-a1e3-d6c2dbd2e057",
   "metadata": {},
   "outputs": [
    {
     "name": "stdout",
     "output_type": "stream",
     "text": [
      "name : Efe\n",
      "age : 36\n",
      "university : University of Sussex\n"
     ]
    }
   ],
   "source": [
    "for key, value in person.items():\n",
    "    print(f\"{key} : {value}\")"
   ]
  },
  {
   "cell_type": "markdown",
   "id": "5efadabe-f38a-4836-bfe0-5a7d54aa5015",
   "metadata": {},
   "source": [
    "**.items() returns both key and value for each entry as a tuple.**"
   ]
  },
  {
   "cell_type": "markdown",
   "id": "ff74cd7d-67b6-448a-86c1-7c2e49c2efc9",
   "metadata": {},
   "source": [
    "#### Using .get()"
   ]
  },
  {
   "cell_type": "markdown",
   "id": "cd1f0b76-d622-40d6-a11b-ae6d242d5651",
   "metadata": {},
   "source": [
    "**.get(key, default_value) is used when you’re not sure if a key exists.**"
   ]
  },
  {
   "cell_type": "code",
   "execution_count": 19,
   "id": "f12c73d0-a49b-4da2-8d88-c05ed32b7507",
   "metadata": {},
   "outputs": [
    {
     "name": "stdout",
     "output_type": "stream",
     "text": [
      "Efe\n",
      "None\n",
      "36\n"
     ]
    }
   ],
   "source": [
    "print(person.get('name'))\n",
    "print(person.get('location'))\n",
    "print(person.get('age'))"
   ]
  },
  {
   "cell_type": "code",
   "execution_count": 23,
   "id": "ec6b09ce-5da6-4a1f-b038-e4eb1bdbe2db",
   "metadata": {},
   "outputs": [
    {
     "name": "stdout",
     "output_type": "stream",
     "text": [
      "name\n",
      "Efe\n",
      "Efe\n",
      "----\n",
      "age\n",
      "36\n",
      "36\n",
      "----\n",
      "university\n",
      "University of Sussex\n",
      "University of Sussex\n",
      "----\n"
     ]
    }
   ],
   "source": [
    "for key, value in person.items():\n",
    "    print(key)\n",
    "    print(value)\n",
    "    print(person.get(key))\n",
    "    print(\"----\")"
   ]
  },
  {
   "cell_type": "markdown",
   "id": "ec6d1159-5299-47a0-be7f-0b4f90d2f54d",
   "metadata": {},
   "source": [
    "#### Looping and Conditional Logic"
   ]
  },
  {
   "cell_type": "code",
   "execution_count": 26,
   "id": "9c8e0b1f-21a1-4d35-ae08-23c5b3f8f072",
   "metadata": {},
   "outputs": [
    {
     "name": "stdout",
     "output_type": "stream",
     "text": [
      "age 36 is the person's age\n"
     ]
    }
   ],
   "source": [
    "for key, value in person.items():\n",
    "    if key == \"age\":\n",
    "        print(f\"{key} {value} is the person's age\")"
   ]
  },
  {
   "cell_type": "code",
   "execution_count": 32,
   "id": "820a7294-6769-407c-9298-80072c2607c0",
   "metadata": {},
   "outputs": [
    {
     "name": "stdout",
     "output_type": "stream",
     "text": [
      "age is the number: 36\n"
     ]
    }
   ],
   "source": [
    "for key, value in person.items():\n",
    "    if isinstance(value, int):\n",
    "        print(f\"{key} is the number: {value}\")"
   ]
  },
  {
   "cell_type": "markdown",
   "id": "e14865c6-9440-4f96-8825-fdce5a9b7da7",
   "metadata": {},
   "source": [
    "### Nested Dictionary"
   ]
  },
  {
   "cell_type": "code",
   "execution_count": 61,
   "id": "653b1ba0-ff1f-4f4f-81ba-1dbc5994565a",
   "metadata": {},
   "outputs": [],
   "source": [
    "students = {\n",
    "    \"Efe\": {\"age\": 36, \"course\": \"AI\", \"city\": \"Brighton\"},\n",
    "    \"Mina\": {\"age\": 29, \"course\": \"Data Science\", \"city\": \"London\"},\n",
    "    \"Ali\": {\"age\": 32, \"course\": \"Robotics\", \"city\": \"Manchester\" }\n",
    "}"
   ]
  },
  {
   "cell_type": "markdown",
   "id": "c12b6918-5895-4d23-bd91-f3f58bd80b8f",
   "metadata": {},
   "source": [
    "**Each key (\"Efe\", \"Mina\", \"Ali\") maps to another dictionary containing attributes.**"
   ]
  },
  {
   "cell_type": "code",
   "execution_count": 64,
   "id": "12b38727-c217-4673-beb6-ec398abcba67",
   "metadata": {},
   "outputs": [
    {
     "name": "stdout",
     "output_type": "stream",
     "text": [
      "Student: Efe\n",
      "Age: 36\n",
      "Course: AI\n",
      "City: Brighton\n",
      "----\n",
      "Student: Mina\n",
      "Age: 29\n",
      "Course: Data Science\n",
      "City: London\n",
      "----\n",
      "Student: Ali\n",
      "Age: 32\n",
      "Course: Robotics\n",
      "City: Manchester\n",
      "----\n"
     ]
    }
   ],
   "source": [
    "for name, info in students.items():\n",
    "    print(f\"Student: {name}\")\n",
    "    print(f\"Age: {info['age']}\")\n",
    "    print(f\"Course: {info['course']}\")\n",
    "    print(f\"City: {info.get('city', 'Unknown')}\")\n",
    "    print(\"----\")"
   ]
  },
  {
   "cell_type": "code",
   "execution_count": 66,
   "id": "0640da1f-60ee-4e96-9c6a-1ef2809b5926",
   "metadata": {},
   "outputs": [
    {
     "name": "stdout",
     "output_type": "stream",
     "text": [
      "Efe's details:\n",
      "age: 36\n",
      "course: AI\n",
      "city: Brighton\n",
      "\n",
      "Mina's details:\n",
      "age: 29\n",
      "course: Data Science\n",
      "city: London\n",
      "\n",
      "Ali's details:\n",
      "age: 32\n",
      "course: Robotics\n",
      "city: Manchester\n",
      "\n"
     ]
    }
   ],
   "source": [
    "for name, attributes in students.items():\n",
    "    print(f\"{name}'s details:\")\n",
    "    for key, value in attributes.items():\n",
    "        print(f\"{key}: {value}\")\n",
    "    print()"
   ]
  },
  {
   "cell_type": "code",
   "execution_count": 68,
   "id": "e1dcf505-0326-4503-b4c8-312b3cb1e560",
   "metadata": {},
   "outputs": [
    {
     "data": {
      "text/plain": [
       "'London'"
      ]
     },
     "execution_count": 68,
     "metadata": {},
     "output_type": "execute_result"
    }
   ],
   "source": [
    "students[\"Mina\"].pop(\"city\")"
   ]
  },
  {
   "cell_type": "code",
   "execution_count": 70,
   "id": "3002ecbe-2c70-471c-b2b9-da1716323542",
   "metadata": {},
   "outputs": [
    {
     "name": "stdout",
     "output_type": "stream",
     "text": [
      "Efe is from Brighton\n",
      "Mina is from Unknown\n",
      "Ali is from Manchester\n"
     ]
    }
   ],
   "source": [
    "for name, info in students.items():\n",
    "    print(f\"{name} is from {info.get('city', 'Unknown')}\")"
   ]
  },
  {
   "cell_type": "markdown",
   "id": "769f14e0-9a6b-4d38-86ab-df24ea30dfc3",
   "metadata": {},
   "source": [
    "**.get('key', 'default')** prevents KeyError when a key is missing."
   ]
  },
  {
   "cell_type": "markdown",
   "id": "bbbe9077-2ce2-4818-9837-de5599569a41",
   "metadata": {},
   "source": [
    "#### Update or Add New Attributes While Looping"
   ]
  },
  {
   "cell_type": "code",
   "execution_count": null,
   "id": "6a42d225-a370-4565-a8e6-03cef0a3d3ee",
   "metadata": {},
   "outputs": [],
   "source": []
  }
 ],
 "metadata": {
  "kernelspec": {
   "display_name": "Python [conda env:base] *",
   "language": "python",
   "name": "conda-base-py"
  },
  "language_info": {
   "codemirror_mode": {
    "name": "ipython",
    "version": 3
   },
   "file_extension": ".py",
   "mimetype": "text/x-python",
   "name": "python",
   "nbconvert_exporter": "python",
   "pygments_lexer": "ipython3",
   "version": "3.12.7"
  }
 },
 "nbformat": 4,
 "nbformat_minor": 5
}
