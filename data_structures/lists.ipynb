{
 "cells": [
  {
   "cell_type": "code",
   "execution_count": 2,
   "id": "0c73e64e-082e-42ae-a4f5-48b37b974a6f",
   "metadata": {},
   "outputs": [
    {
     "name": "stdout",
     "output_type": "stream",
     "text": [
      "['apple', 'banana', 'cherry']\n"
     ]
    }
   ],
   "source": [
    "fruits = [\"apple\", \"banana\", \"cherry\"]\n",
    "print(fruits)"
   ]
  },
  {
   "cell_type": "markdown",
   "id": "74069806-243f-4f3a-9e22-37a3cdc53413",
   "metadata": {},
   "source": [
    "#### Indexing"
   ]
  },
  {
   "cell_type": "code",
   "execution_count": 4,
   "id": "8b0983a1-dca8-49ac-9a2f-588eb1e577ae",
   "metadata": {},
   "outputs": [
    {
     "name": "stdout",
     "output_type": "stream",
     "text": [
      "apple\n",
      "banana\n",
      "cherry\n"
     ]
    }
   ],
   "source": [
    "print(fruits[0])  \n",
    "print(fruits[1])  \n",
    "print(fruits[-1])"
   ]
  },
  {
   "cell_type": "markdown",
   "id": "350c7849-4fed-4679-b3b9-254c3c1d8e1e",
   "metadata": {},
   "source": [
    "#### Slicing"
   ]
  },
  {
   "cell_type": "code",
   "execution_count": null,
   "id": "c93ee710-572f-4da8-b828-8e6bf5087fbe",
   "metadata": {},
   "outputs": [],
   "source": [
    "numbers = [10, 20, 30, 40, 50]\n",
    "\n",
    "print(numbers[1:4]) \n",
    "print(numbers[:3]) \n",
    "print(numbers[2:]) "
   ]
  },
  {
   "cell_type": "markdown",
   "id": "0abaa738-f204-4325-95e9-4503f6246ef1",
   "metadata": {},
   "source": [
    "#### Changing Elements"
   ]
  },
  {
   "cell_type": "code",
   "execution_count": 9,
   "id": "1731d82f-3816-4911-b69e-8f0220ee60c8",
   "metadata": {},
   "outputs": [
    {
     "name": "stdout",
     "output_type": "stream",
     "text": [
      "['apple', 'orange', 'cherry']\n"
     ]
    }
   ],
   "source": [
    "fruits = [\"apple\", \"banana\", \"cherry\"]\n",
    "fruits[1] = \"orange\"\n",
    "\n",
    "print(fruits)"
   ]
  },
  {
   "cell_type": "code",
   "execution_count": null,
   "id": "5b734a91-7bde-4af5-9961-8459b7085170",
   "metadata": {},
   "outputs": [],
   "source": []
  }
 ],
 "metadata": {
  "kernelspec": {
   "display_name": "Python [conda env:base] *",
   "language": "python",
   "name": "conda-base-py"
  },
  "language_info": {
   "codemirror_mode": {
    "name": "ipython",
    "version": 3
   },
   "file_extension": ".py",
   "mimetype": "text/x-python",
   "name": "python",
   "nbconvert_exporter": "python",
   "pygments_lexer": "ipython3",
   "version": "3.12.7"
  }
 },
 "nbformat": 4,
 "nbformat_minor": 5
}
