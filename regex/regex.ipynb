{
 "cells": [
  {
   "cell_type": "markdown",
   "id": "e20b9de6-9f27-46b0-876e-600154037130",
   "metadata": {},
   "source": [
    "#### Setup"
   ]
  },
  {
   "cell_type": "code",
   "execution_count": 4,
   "id": "e0ed013a-fb17-4ff4-88ea-acdc4cb0112f",
   "metadata": {},
   "outputs": [],
   "source": [
    "import re\n",
    "\n",
    "# Always use raw strings for patterns:\n",
    "pat = r\"\\d+\"  "
   ]
  },
  {
   "cell_type": "markdown",
   "id": "8b75df16-4643-4a5f-8d62-03e0a9fd5b86",
   "metadata": {},
   "source": [
    "#### Core find/replace/search tools"
   ]
  },
  {
   "cell_type": "code",
   "execution_count": null,
   "id": "7685c024-7154-4a23-bfd5-6b601069d244",
   "metadata": {},
   "outputs": [],
   "source": [
    "re.search(pat, text)     # first match anywhere → Match or None\n",
    "re.match(pat, text)      # from start only (rarely what you want)\n",
    "re.findall(pat, text)    # list of all non-overlapping matches (strings)\n",
    "re.finditer(pat, text)   # iterator of Match objects (spans, groups)\n",
    "re.sub(pat, repl, text)  # replace matches with repl (str or function)\n",
    "re.split(pat, text)      # split by regex delimiter(s)\n",
    "# For repeated use, compile once:\n",
    "rx = re.compile(pat, flags=0)"
   ]
  },
  {
   "cell_type": "markdown",
   "id": "caa129be-52e4-43b5-ab3a-04dbc6875c01",
   "metadata": {},
   "source": [
    "#### Bread-and-butter tokens"
   ]
  },
  {
   "cell_type": "markdown",
   "id": "8c44b1da-c5fc-4c2a-a265-6503a2df65ce",
   "metadata": {},
   "source": [
    ". any char (except newline unless DOTALL)\n",
    "\n",
    "\\d \\w \\s digits / word / whitespace\n",
    "\n",
    "\\D \\W \\S negations\n",
    "\n",
    "Anchors: ^ start, $ end, \\b word boundary, \\B non-boundary\n",
    "\n",
    "Character classes: [abc], ranges [A-Z], negation [^,]\n",
    "\n",
    "Quantifiers:\n",
    "\n",
    "* 0+, + 1+, ? 0/1\n",
    "\n",
    "{m}, {m,}, {m,n}\n",
    "\n",
    "Add ? to make lazy: +?, *?, {m,n}?"
   ]
  },
  {
   "cell_type": "code",
   "execution_count": null,
   "id": "5e21c8a6-8f39-4115-89e3-1e87e19ba4ea",
   "metadata": {},
   "outputs": [],
   "source": []
  }
 ],
 "metadata": {
  "kernelspec": {
   "display_name": "Python [conda env:base] *",
   "language": "python",
   "name": "conda-base-py"
  },
  "language_info": {
   "codemirror_mode": {
    "name": "ipython",
    "version": 3
   },
   "file_extension": ".py",
   "mimetype": "text/x-python",
   "name": "python",
   "nbconvert_exporter": "python",
   "pygments_lexer": "ipython3",
   "version": "3.12.7"
  }
 },
 "nbformat": 4,
 "nbformat_minor": 5
}
